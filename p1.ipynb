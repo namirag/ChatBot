{
 "cells": [
  {
   "cell_type": "code",
   "execution_count": 2,
   "metadata": {},
   "outputs": [
    {
     "name": "stderr",
     "output_type": "stream",
     "text": [
      "e:\\gbc_ai\\applied maths winter 2025\\maths_project_chatboot\\qa_chatbot_env\\lib\\site-packages\\tqdm\\auto.py:21: TqdmWarning: IProgress not found. Please update jupyter and ipywidgets. See https://ipywidgets.readthedocs.io/en/stable/user_install.html\n",
      "  from .autonotebook import tqdm as notebook_tqdm\n"
     ]
    },
    {
     "name": "stdout",
     "output_type": "stream",
     "text": [
      "4.48.2 2.6.0+cpu\n"
     ]
    }
   ],
   "source": [
    "import transformers\n",
    "import torch\n",
    "print(transformers.__version__, torch.__version__)"
   ]
  },
  {
   "cell_type": "code",
   "execution_count": 3,
   "metadata": {},
   "outputs": [
    {
     "name": "stderr",
     "output_type": "stream",
     "text": [
      "Device set to use cpu\n"
     ]
    },
    {
     "name": "stdout",
     "output_type": "stream",
     "text": [
      "{'score': 0.9958787560462952, 'start': 52, 'end': 68, 'answer': 'Guido van Rossum'}\n"
     ]
    }
   ],
   "source": [
    "from transformers import pipeline\n",
    "\n",
    "# Load the question-answering pipeline\n",
    "qa_pipeline = pipeline(\"question-answering\", model=\"distilbert-base-cased-distilled-squad\")\n",
    "\n",
    "# Sample context and question\n",
    "context = \"Python is a popular programming language created by Guido van Rossum in 1991.\"\n",
    "question = \"Who created Python?\"\n",
    "\n",
    "# Get the answer\n",
    "answer = qa_pipeline(question=question, context=context)\n",
    "\n",
    "print(answer)\n"
   ]
  },
  {
   "cell_type": "code",
   "execution_count": 4,
   "metadata": {},
   "outputs": [
    {
     "name": "stdout",
     "output_type": "stream",
     "text": [
      "{'score': 0.6123599410057068, 'start': 32, 'end': 74, 'answer': 'develops natural language processing tools'}\n"
     ]
    }
   ],
   "source": [
    "context = \"\"\"\n",
    "Hugging Face is a company that develops natural language processing tools.\n",
    "They provide a wide range of pre-trained models for various NLP tasks.\n",
    "\"\"\"\n",
    "question = \"What does Hugging Face do?\"\n",
    "\n",
    "# Get the answer\n",
    "answer = qa_pipeline(question=question, context=context)\n",
    "\n",
    "print(answer)"
   ]
  },
  {
   "cell_type": "code",
   "execution_count": 7,
   "metadata": {},
   "outputs": [],
   "source": [
    "import json\n",
    "from transformers import pipeline"
   ]
  },
  {
   "cell_type": "code",
   "execution_count": 8,
   "metadata": {},
   "outputs": [],
   "source": [
    "context_path = \"E:/gbc_ai/applied maths winter 2025/maths_project_chatboot/train-v2.0.json\""
   ]
  },
  {
   "cell_type": "code",
   "execution_count": 9,
   "metadata": {},
   "outputs": [],
   "source": [
    "with open(context_path, 'r', encoding='utf-8') as f:\n",
    "    context_data = json.load(f)"
   ]
  },
  {
   "cell_type": "code",
   "execution_count": 10,
   "metadata": {},
   "outputs": [
    {
     "name": "stderr",
     "output_type": "stream",
     "text": [
      "Device set to use cpu\n"
     ]
    }
   ],
   "source": [
    "qa_pipeline = pipeline(\"question-answering\", model=\"distilbert-base-cased-distilled-squad\")"
   ]
  },
  {
   "cell_type": "code",
   "execution_count": 11,
   "metadata": {},
   "outputs": [],
   "source": [
    "context = context_data['data'][0]['paragraphs'][0]['context']"
   ]
  },
  {
   "cell_type": "code",
   "execution_count": 12,
   "metadata": {},
   "outputs": [
    {
     "name": "stdout",
     "output_type": "stream",
     "text": [
      "Answers : {'score': 0.48870399594306946, 'start': 276, 'end': 286, 'answer': 'late 1990s'}\n",
      "Answers : {'score': 0.48870399594306946, 'start': 276, 'end': 286, 'answer': 'late 1990s'}\n",
      "Answers : {'score': 0.48870399594306946, 'start': 276, 'end': 286, 'answer': 'late 1990s'}\n",
      "Answers : {'score': 0.9700042605400085, 'start': 207, 'end': 226, 'answer': 'singing and dancing'}\n"
     ]
    }
   ],
   "source": [
    "while True:\n",
    "    question = input(\"Enter the question: \")\n",
    "    \n",
    "    if question.lower() == 'exit':\n",
    "        break\n",
    "    answer = qa_pipeline(question=question, context=context)\n",
    "\n",
    "    print(f'Answers : {answer}')\n",
    "    "
   ]
  },
  {
   "cell_type": "code",
   "execution_count": null,
   "metadata": {},
   "outputs": [],
   "source": []
  }
 ],
 "metadata": {
  "kernelspec": {
   "display_name": "qa_chatbot_env",
   "language": "python",
   "name": "python3"
  },
  "language_info": {
   "codemirror_mode": {
    "name": "ipython",
    "version": 3
   },
   "file_extension": ".py",
   "mimetype": "text/x-python",
   "name": "python",
   "nbconvert_exporter": "python",
   "pygments_lexer": "ipython3",
   "version": "3.9.12"
  }
 },
 "nbformat": 4,
 "nbformat_minor": 2
}
